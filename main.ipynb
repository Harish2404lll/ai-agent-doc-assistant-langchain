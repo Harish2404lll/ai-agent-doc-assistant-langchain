{
 "cells": [
  {
   "cell_type": "markdown",
   "id": "21fa2e13-567d-4509-9023-c99fb230f31f",
   "metadata": {},
   "source": [
    "# Lesson 2 : LangGraph Components"
   ]
  },
  {
   "cell_type": "code",
   "execution_count": 29,
   "id": "f5762271-8736-4e94-9444-8c92bd0e8074",
   "metadata": {
    "height": 47
   },
   "outputs": [],
   "source": [
    "from dotenv import load_dotenv\n",
    "_ = load_dotenv()"
   ]
  },
  {
   "cell_type": "code",
   "execution_count": 30,
   "id": "d0168aee-bce9-4d60-b827-f86a88187e31",
   "metadata": {
    "height": 130
   },
   "outputs": [],
   "source": [
    "from langgraph.graph import StateGraph, END\n",
    "from typing import TypedDict, Annotated\n",
    "import operator\n",
    "from langchain_core.messages import AnyMessage, SystemMessage, HumanMessage, ToolMessage\n",
    "from langchain_openai import ChatOpenAI\n",
    "from langchain_community.tools.tavily_search import TavilySearchResults"
   ]
  },
  {
   "cell_type": "code",
   "execution_count": 31,
   "id": "2589c5b6-6cc2-4594-9a17-dccdcf676054",
   "metadata": {
    "height": 79
   },
   "outputs": [
    {
     "name": "stdout",
     "output_type": "stream",
     "text": [
      "<class 'langchain_community.tools.tavily_search.tool.TavilySearchResults'>\n",
      "tavily_search_results_json\n"
     ]
    }
   ],
   "source": [
    "tool = TavilySearchResults(max_results=4) #increased number of results\n",
    "print(type(tool))\n",
    "print(tool.name)"
   ]
  },
  {
   "cell_type": "markdown",
   "id": "e196c186-af55-4f2d-b569-b7d63a859304",
   "metadata": {},
   "source": [
    "> If you are not familiar with python typing annotation, you can refer to the [python documents](https://docs.python.org/3/library/typing.html)."
   ]
  },
  {
   "cell_type": "code",
   "execution_count": 32,
   "id": "a2ba84ec-c172-4de7-ac55-e3158a531b23",
   "metadata": {
    "height": 47
   },
   "outputs": [],
   "source": [
    "class AgentState(TypedDict):\n",
    "    messages: Annotated[list[AnyMessage], operator.add]"
   ]
  },
  {
   "cell_type": "markdown",
   "id": "74c7ba73-e603-453b-b06f-5db92c567b19",
   "metadata": {},
   "source": [
    "> Note: in `take_action` below, some logic was added to cover the case that the LLM returned a non-existent tool name. Even with function calling, LLMs can still occasionally hallucinate. Note that all that is done is instructing the LLM to try again! An advantage of an agentic organization."
   ]
  },
  {
   "cell_type": "code",
   "execution_count": 33,
   "id": "876d5092-b8ef-4e38-b4d7-0e80c609bf7a",
   "metadata": {
    "height": 742
   },
   "outputs": [],
   "source": [
    "class Agent:\n",
    "\n",
    "    def __init__(self, model, tools, system=\"\"):\n",
    "        self.system = system\n",
    "        graph = StateGraph(AgentState)\n",
    "        graph.add_node(\"llm\", self.call_openai)\n",
    "        graph.add_node(\"action\", self.take_action)\n",
    "        graph.add_conditional_edges(\n",
    "            \"llm\",\n",
    "            self.exists_action,\n",
    "            {True: \"action\", False: END}\n",
    "        )\n",
    "        graph.add_edge(\"action\", \"llm\")\n",
    "        graph.set_entry_point(\"llm\")\n",
    "        self.graph = graph.compile()\n",
    "        self.tools = {t.name: t for t in tools}\n",
    "        self.model = model.bind_tools(tools)\n",
    "\n",
    "    def exists_action(self, state: AgentState):\n",
    "        result = state['messages'][-1]\n",
    "        return len(result.tool_calls) > 0\n",
    "\n",
    "    def call_openai(self, state: AgentState):\n",
    "        messages = state['messages']\n",
    "        if self.system:\n",
    "            messages = [SystemMessage(content=self.system)] + messages\n",
    "        message = self.model.invoke(messages)\n",
    "        return {'messages': [message]}\n",
    "\n",
    "    def take_action(self, state: AgentState):\n",
    "        tool_calls = state['messages'][-1].tool_calls\n",
    "        results = []\n",
    "        for t in tool_calls:\n",
    "            print(f\"Calling: {t}\")\n",
    "            if not t['name'] in self.tools:      # check for bad tool name from LLM\n",
    "                print(\"\\n ....bad tool name....\")\n",
    "                result = \"bad tool name, retry\"  # instruct LLM to retry if bad\n",
    "            else:\n",
    "                result = self.tools[t['name']].invoke(t['args'])\n",
    "            results.append(ToolMessage(tool_call_id=t['id'], name=t['name'], content=str(result)))\n",
    "        print(\"Back to the model!\")\n",
    "        return {'messages': results}"
   ]
  },
  {
   "cell_type": "code",
   "execution_count": 34,
   "id": "10084a02-2928-4945-9f7c-ad3f5b33caf7",
   "metadata": {
    "height": 521
   },
   "outputs": [],
   "source": [
    "prompt = \"\"\"\n",
    "You are an intelligent and efficient research assistant integrated with a web search tool (TavilySearchResults).\n",
    "Your goal is to find accurate, up-to-date information to answer complex, multi-step user queries.\n",
    "\n",
    "Guidelines:\n",
    "1. You can use the search tool to find information on the internet.\n",
    "2. You are allowed to make multiple calls, either simultaneously or sequentially.\n",
    "3. Do not hallucinate. If uncertain, search first before answering.\n",
    "4. Always explain your reasoning if the question requires multiple steps.\n",
    "5. Be concise, factual, and structured in your answers.\n",
    "\n",
    "Output Format:\n",
    "- First, clearly state the answer.\n",
    "- Then briefly explain how you found it (if needed).\n",
    "- Cite the source if available from the tool result.\n",
    "\n",
    "Example:\n",
    "Q: Who won the Super Bowl in 2024, and what is the GDP of the winner’s home state?\n",
    "\n",
    "A:\n",
    "1. The Kansas City Chiefs won the Super Bowl in 2024.\n",
    "2. Their home state is Missouri.\n",
    "3. The GDP of Missouri is approximately $390 billion (as of 2023).\n",
    "\n",
    "(Source: https://forum.wordreference.com/threads/write-a-summary-of-for-about-the-article.2648659/)\n",
    "\"\"\"\n",
    "\n",
    "model = ChatOpenAI(model=\"gpt-3.5-turbo\")  #reduce inference cost\n",
    "abot = Agent(model, [tool], system=prompt)"
   ]
  },
  {
   "cell_type": "code",
   "execution_count": 35,
   "id": "a3d6f5f4-2392-41b9-ab96-7919840baa3e",
   "metadata": {
    "height": 64
   },
   "outputs": [
    {
     "data": {
      "image/png": "[encoded data removed]",
      "text/plain": [
       "<IPython.core.display.Image object>"
      ]
     },
     "execution_count": 35,
     "metadata": {},
     "output_type": "execute_result"
    }
   ],
   "source": [
    "from IPython.display import Image\n",
    "\n",
    "Image(abot.graph.get_graph().draw_png())"
   ]
  },
  {
   "cell_type": "code",
   "execution_count": 36,
   "id": "83588e70-254f-4f83-a510-c8ae81e729b0",
   "metadata": {
    "height": 47
   },
   "outputs": [
    {
     "name": "stdout",
     "output_type": "stream",
     "text": [
      "Calling: {'name': 'tavily_search_results_json', 'args': {'query': 'current weather in San Francisco'}, 'id': 'call_6WAUHhMczfR6cBjfwUOH2qzT'}\n",
      "Back to the model!\n"
     ]
    }
   ],
   "source": [
    "messages = [HumanMessage(content=\"What is the weather in sf?\")]\n",
    "result = abot.graph.invoke({\"messages\": messages})"
   ]
  },
  {
   "cell_type": "code",
   "execution_count": 37,
   "id": "89a06a8c-fcd4-4ca6-98f0-36c5809813e6",
   "metadata": {
    "height": 30,
    "scrolled": true
   },
   "outputs": [
    {
     "data": {
      "text/plain": [
       "{'messages': [HumanMessage(content='What is the weather in sf?'),\n",
       "  AIMessage(content='', additional_kwargs={'tool_calls': [{'id': 'call_6WAUHhMczfR6cBjfwUOH2qzT', 'function': {'arguments': '{\"query\":\"current weather in San Francisco\"}', 'name': 'tavily_search_results_json'}, 'type': 'function'}]}, response_metadata={'token_usage': {'completion_tokens': 22, 'prompt_tokens': 332, 'total_tokens': 354, 'prompt_tokens_details': {'cached_tokens': 0, 'audio_tokens': 0}, 'completion_tokens_details': {'reasoning_tokens': 0, 'audio_tokens': 0, 'accepted_prediction_tokens': 0, 'rejected_prediction_tokens': 0}}, 'model_name': 'gpt-3.5-turbo', 'system_fingerprint': None, 'finish_reason': 'tool_calls', 'logprobs': None}, id='run-519e8bb2-71a4-42f0-a1cc-d30e6823af8b-0', tool_calls=[{'name': 'tavily_search_results_json', 'args': {'query': 'current weather in San Francisco'}, 'id': 'call_6WAUHhMczfR6cBjfwUOH2qzT'}]),\n",
       "  ToolMessage(content='[{\\'url\\': \\'https://www.spreaker.com/episode/today-s-weather-in-san-francisco-weather-report-for-02-08-2025--64267746\\', \\'content\\': \"Today\\'s Weather in San Francisco\\\\n Weather Report for 02-08-2025\\\\n\\\\n##### Description\\\\n\\\\nGood morning, San Francisco! I\\'m your weather buddy bringing you the latest forecast for this beautiful California city.\\\\nLet\\'s dive right in! Tonight, we\\'re looking at a crisp and clear...\\\\n\\\\n##### Comments\\\\n\\\\n##### Information\\\\n\\\\n|  |  |\\\\n| --- | --- |\\\\n| Author | QP-1 |\\\\n| Organization | William Corbin |\\\\n| Website | - |\\\\n| Tags | #forecast   #rain forecast   #weather   #weather forecast   #weather report | [...] Copyright 2025 - Spreaker Inc. an\\\\niHeartMedia Company\\\\n\\\\n#### Looks like you don\\'t have any active episode\\\\n\\\\nBrowse Spreaker Catalogue to discover great new content\\\\n\\\\n## Current\\\\n\\\\nPodcast Cover\\\\n\\\\n#### \\\\n\\\\n###### \\\\n\\\\n#### Looks like you don\\'t have any episodes in your queue\\\\n\\\\nBrowse Spreaker Catalogue to discover great new content\\\\n\\\\n#### Next Up\\\\n\\\\nEpisode Cover\\\\n\\\\n###### \\\\n\\\\nEpisode Cover\\\\nEpisode Cover\\\\nEpisode Cover\\\\nEpisode Cover\\\\n\\\\nIt\\'s so quiet here...\\\\n\\\\nTime to discover new episodes! [...] ## Today\\'s Weather in San Francisco Weather Report for 02-08-2025\\\\n\\\\nToday\\'s Weather in San Francisco\\\\n Weather Report for 02-08-2025\\\\n\\\\n### Download and listen anywhere\\\\n\\\\nDownload your favorite episodes and enjoy them, wherever you are! Sign up or log in now to access offline listening.\\\\n\\\\n### Today\\'s Weather in San Francisco Weather Report for 02-08-2025\\\\n\\\\nThis is an automatically generated transcript. Please note that complete accuracy is not guaranteed.\\\\n\\\\n### Embed episode\"}, {\\'url\\': \\'https://www.weather25.com/north-america/usa/california/san-francisco?page=month&month=August\\', \\'content\\': \\'| Month | Temperatures | Weather | Rainy Days | Dry Days | Snowy Days | Rainfall |\\\\n| --- | --- | --- | --- | --- | --- | --- |\\\\n| January | 15° / 7° | Good | 4 | 27 | 0 | 63 mm |\\\\n| February | 16° / 7° | Good | 4 | 24 | 0 | 61 mm |\\\\n| March | 17° / 8° | Good | 5 | 26 | 0 | 62 mm |\\\\n| April | 18° / 9° | Good | 2 | 28 | 0 | 22 mm |\\\\n| May | 20° / 10° | Good | 1 | 30 | 0 | 13 mm |\\\\n| June | 23° / 12° | Perfect | 0 | 30 | 0 | 6 mm |\\\\n| July | 25° / 14° | Perfect | 0 | 31 | 0 | 3 mm | [...] Overcast\\\\nFog\\\\nFog\\\\nFog\\\\nPartly cloudy\\\\nSunny\\\\nPatchy rain possible\\\\nPatchy rain possible\\\\nSunny\\\\nSunny\\\\nPartly cloudy\\\\nPatchy rain possible\\\\nPatchy rain possible\\\\nSunny\\\\nSunny\\\\nSunny\\\\nSunny\\\\nPartly cloudy\\\\nPartly cloudy\\\\nPartly cloudy\\\\nSunny\\\\nPartly cloudy\\\\nPartly cloudy\\\\nPartly cloudy\\\\nPartly cloudy\\\\nSunny\\\\nPartly cloudy\\\\nSunny\\\\nSunny\\\\nSunny\\\\nSunny\\\\n\\\\n## Explore the weather in San Francisco in other months\\\\n\\\\n## San Francisco annual weather [...] | 17 Sunny 22° /15° | 18 Partly cloudy 21° /14° | 19 Partly cloudy 22° /14° | 20 Partly cloudy 22° /14° | 21 Sunny 21° /14° | 22 Partly cloudy 22° /14° | 23 Partly cloudy 21° /14° |\\\\n| 24 Partly cloudy 21° /14° | 25 Partly cloudy 22° /14° | 26 Sunny 23° /15° | 27 Partly cloudy 23° /14° | 28 Sunny 23° /15° | 29 Sunny 22° /15° | 30 Sunny 23° /15° |\\\\n| 31 Sunny 22° /15° |  |  |  |  |  |  |\\'}, {\\'url\\': \\'https://weather.com/weather/tenday/l/San+Francisco+CA+USCA0987:1:US\\', \\'content\\': \"## Recent Locations\\\\n\\\\nMenu\\\\n\\\\n## Weather Forecasts\\\\n\\\\n## Radar & Maps\\\\n\\\\n## News & Media\\\\n\\\\n## Products & Account\\\\n\\\\n## Lifestyle\\\\n\\\\n### Specialty Forecasts\\\\n\\\\n# 10 Day Weather-San Francisco, CA\\\\n\\\\n## Tonight\\\\n\\\\n## Night\\\\n\\\\nPartly cloudy this evening, then becoming cloudy after midnight. Expect mist and reduced visibilities at times. Low 56F. Winds WSW at 10 to 20 mph.\\\\n\\\\nundefined\\\\n\\\\nHeads-up\\\\n\\\\nCanada Wildfire Smoke Pushes Into US\\\\n\\\\n## Sat 02\\\\n\\\\n## Day\\\\n\\\\nIntervals of clouds and sunshine. High 68F. Winds WSW at 15 to 25 mph. [...] ## Night\\\\n\\\\nPartly cloudy. Low near 55F. Winds WSW at 10 to 20 mph.\\\\n\\\\n## Sun 03\\\\n\\\\n## Day\\\\n\\\\nPartly cloudy early. Mostly sunny skies with gusty winds developing later in the day. High 68F. Winds W at 20 to 30 mph.\\\\n\\\\n## Night\\\\n\\\\nClear skies. Low 56F. Winds W at 15 to 25 mph.\\\\n\\\\n## Mon 04\\\\n\\\\n## Day\\\\n\\\\nAbundant sunshine. High 69F. Winds W at 10 to 20 mph.\\\\n\\\\n## Night\\\\n\\\\nClear skies with a few passing clouds. Expect mist and reduced visibilities at times. Low 54F. Winds WSW at 10 to 20 mph.\\\\n\\\\n## Tue 05\\\\n\\\\n## Day [...] We recognize our responsibility to use data and technology for good. We may use or share your data with our data vendors. Take control of your data.\\\\n\\\\nThe Weather Channel is the world\\'s most accurate forecaster according to ForecastWatch, Global and Regional Weather Forecast Accuracy Overview, 2021-2024, commissioned by The Weather Company.\\\\n\\\\nWeather Channel\\\\n\\\\n© The Weather Company, LLC 2025\"}, {\\'url\\': \\'https://www.accuweather.com/en/us/san-francisco/94103/august-weather/347629\\', \\'content\\': \\'# San Francisco, CA\\\\n\\\\nSan Francisco\\\\n\\\\nCalifornia\\\\n\\\\n## Around the Globe\\\\n\\\\nAround the Globe\\\\n\\\\n### Hurricane Tracker\\\\n\\\\n### Severe Weather\\\\n\\\\n### Radar & Maps\\\\n\\\\n### News & Features\\\\n\\\\n### Astronomy\\\\n\\\\n### Business\\\\n\\\\n### Climate\\\\n\\\\n### Health\\\\n\\\\n### Recreation\\\\n\\\\n### Sports\\\\n\\\\n### Travel\\\\n\\\\n### Warnings\\\\n\\\\n### Data Suite\\\\n\\\\n### Forensics\\\\n\\\\n### Advertising\\\\n\\\\n### Superior Accuracy™\\\\n\\\\n### Video\\\\n\\\\n### Winter Center\\\\n\\\\n## Monthly\\\\n\\\\n## August\\\\n\\\\n## 2025\\\\n\\\\n## Daily\\\\n\\\\n## Temperature Graph\\\\n\\\\n## Further Ahead\\\\n\\\\nFurther Ahead\\\\n\\\\n### September 2025 [...] 3 big astronomy events packed into 1 week in August sky\\\\n\\\\n14 hours ago\\\\n\\\\nHurricane\\\\n\\\\nHawaii faces wildfire risk amid drought, winds\\\\n\\\\n13 minutes ago\\\\n\\\\nFeatured Stories\\\\n\\\\nWeather News\\\\n\\\\nWeather sparks firefly mania, but will it last?\\\\n\\\\n9 hours ago\\\\n\\\\nClearing the air: Heat index of 182 degrees in Iran likely false\\\\n\\\\nLATEST ENTRY\\\\n\\\\nHeat index challenges world record, but is it real?\\\\n\\\\n9 hours ago\\\\n\\\\nTravel\\\\n\\\\nUS Navy F-35 crashes in California, pilot ejects safely\\\\n\\\\n1 day ago\\\\n\\\\nSevere Weather [...] ### October 2025\\\\n\\\\n## Around the Globe\\\\n\\\\nAround the Globe\\\\n\\\\n### Hurricane Tracker\\\\n\\\\n### Severe Weather\\\\n\\\\n### Radar & Maps\\\\n\\\\n### News\\\\n\\\\n### Video\\\\n\\\\n### Winter Center\\\\n\\\\nTop Stories\\\\n\\\\nWeather Forecasts\\\\n\\\\nCool, dry air to replace flood-inducing storms in Northeast\\\\n\\\\n8 hours ago\\\\n\\\\nSevere Weather\\\\n\\\\nTorrential rain, deadly flash flooding slam I-95 corridor\\\\n\\\\n15 hours ago\\\\n\\\\nSevere Weather\\\\n\\\\nTorrential downpours to pose dangerous flash flood risk in Southeast\\\\n\\\\n3 hours ago\\\\n\\\\nAstronomy\\'}]', name='tavily_search_results_json', tool_call_id='call_6WAUHhMczfR6cBjfwUOH2qzT'),\n",
       "  AIMessage(content='The current weather in San Francisco is partly cloudy with a high of 68°F and a low of 56°F. Winds are expected to be from the WSW at 15 to 25 mph.\\n\\nSources:\\n1. [Weather.com](https://weather.com/weather/tenday/l/San+Francisco+CA+USCA0987:1:US)', response_metadata={'token_usage': {'completion_tokens': 76, 'prompt_tokens': 2251, 'total_tokens': 2327, 'prompt_tokens_details': {'cached_tokens': 0, 'audio_tokens': 0}, 'completion_tokens_details': {'reasoning_tokens': 0, 'audio_tokens': 0, 'accepted_prediction_tokens': 0, 'rejected_prediction_tokens': 0}}, 'model_name': 'gpt-3.5-turbo', 'system_fingerprint': None, 'finish_reason': 'stop', 'logprobs': None}, id='run-bc9baa04-bf50-49ca-a8be-0abdf8d148f7-0')]}"
      ]
     },
     "execution_count": 37,
     "metadata": {},
     "output_type": "execute_result"
    }
   ],
   "source": [
    "result"
   ]
  },
  {
   "cell_type": "code",
   "execution_count": 38,
   "id": "6cb3ef4c-58b3-401b-b104-0d51e553d982",
   "metadata": {
    "height": 30
   },
   "outputs": [
    {
     "data": {
      "text/plain": [
       "'The current weather in San Francisco is partly cloudy with a high of 68°F and a low of 56°F. Winds are expected to be from the WSW at 15 to 25 mph.\\n\\nSources:\\n1. [Weather.com](https://weather.com/weather/tenday/l/San+Francisco+CA+USCA0987:1:US)'"
      ]
     },
     "execution_count": 38,
     "metadata": {},
     "output_type": "execute_result"
    }
   ],
   "source": [
    "result['messages'][-1].content"
   ]
  },
  {
   "cell_type": "code",
   "execution_count": 39,
   "id": "dc3293b7-a50c-43c8-a022-8975e1e444b8",
   "metadata": {
    "height": 62
   },
   "outputs": [
    {
     "name": "stdout",
     "output_type": "stream",
     "text": [
      "Calling: {'name': 'tavily_search_results_json', 'args': {'query': 'current weather in San Francisco'}, 'id': 'call_sjYYzlEKj3E6j5MuGr9baW11'}\n",
      "Calling: {'name': 'tavily_search_results_json', 'args': {'query': 'current weather in Los Angeles'}, 'id': 'call_jr2UEfCpCu0MkWHDgPUQp5QT'}\n",
      "Back to the model!\n"
     ]
    }
   ],
   "source": [
    "messages = [HumanMessage(content=\"What is the weather in SF and LA?\")]\n",
    "result = abot.graph.invoke({\"messages\": messages})"
   ]
  },
  {
   "cell_type": "code",
   "execution_count": 40,
   "id": "0722c3d4-4cbf-43bf-81b0-50f634c4ce61",
   "metadata": {
    "height": 30
   },
   "outputs": [
    {
     "data": {
      "text/plain": [
       "'1. The current weather in San Francisco is partly cloudy with a low of 56°F and a high of 68°F. The wind is from the WSW at 10 to 20 mph.\\n2. The current weather in Los Angeles is partly cloudy with a low of 63°F. Winds are light and variable.\\n\\nI found this information by searching for the current weather in San Francisco and Los Angeles using multiple sources like weather websites and forecasts.'"
      ]
     },
     "execution_count": 40,
     "metadata": {},
     "output_type": "execute_result"
    }
   ],
   "source": [
    "result['messages'][-1].content"
   ]
  },
  {
   "cell_type": "code",
   "execution_count": 41,
   "id": "6b2f82fe-3ec4-4917-be51-9fb10d1317fa",
   "metadata": {
    "height": 181
   },
   "outputs": [
    {
     "name": "stdout",
     "output_type": "stream",
     "text": [
      "Calling: {'name': 'tavily_search_results_json', 'args': {'query': 'Capital of Australia'}, 'id': 'call_3qElRCr8uM7gh7w50kDQg4TY'}\n",
      "Calling: {'name': 'tavily_search_results_json', 'args': {'query': 'Current Prime Minister of Australia 2023'}, 'id': 'call_y6TxunEyOXfIFo0LbxxFFDSf'}\n",
      "Calling: {'name': 'tavily_search_results_json', 'args': {'query': 'Population of Canberra 2023'}, 'id': 'call_CYUMxYz0T1lrk1tn58mpVm8l'}\n",
      "Back to the model!\n"
     ]
    }
   ],
   "source": [
    "# A new, complex query to leverage the detailed prompt.\n",
    "# This requires the agent to find a capital, then a person, then a population number.\n",
    "query = \"\"\"What is the capital of Australia? Who is the current prime minister of that country, and what is the approximate population of the capital city? Answer each question clearly.\"\"\"\n",
    "messages = [HumanMessage(content=query)]\n",
    "\n",
    "# Use a more advanced model for complex, multi-step reasoning\n",
    "model = ChatOpenAI(model=\"gpt-4o\")\n",
    "abot = Agent(model, [tool], system=prompt)\n",
    "result = abot.graph.invoke({\"messages\": messages})"
   ]
  },
  {
   "cell_type": "code",
   "execution_count": 42,
   "id": "ee0fe1c7-77e2-499c-a2f9-1f739bb6ddf0",
   "metadata": {
    "height": 30
   },
   "outputs": [
    {
     "name": "stdout",
     "output_type": "stream",
     "text": [
      "1. **Capital of Australia**: The capital city of Australia is Canberra. (Source: [Wikipedia](https://en.wikipedia.org/wiki/Canberra))\n",
      "\n",
      "2. **Current Prime Minister of Australia**: The current Prime Minister of Australia is Anthony Albanese, who has been serving since May 23, 2022. (Source: [Wikipedia](https://en.wikipedia.org/wiki/Anthony_Albanese))\n",
      "\n",
      "3. **Approximate Population of Canberra**: As of 2024, the estimated population of Canberra is approximately 473,855. (Source: [Australian Bureau of Statistics](https://www.abs.gov.au))\n"
     ]
    }
   ],
   "source": [
    "print(result['messages'][-1].content)"
   ]
  },
  {
   "cell_type": "code",
   "execution_count": null,
   "id": "1d643182-2802-40fb-ba35-d4f893c5b976",
   "metadata": {
    "height": 30
   },
   "outputs": [],
   "source": []
  }
 ],
 "metadata": {
  "kernelspec": {
   "display_name": "Python 3 (ipykernel)",
   "language": "python",
   "name": "python3"
  },
  "language_info": {
   "codemirror_mode": {
    "name": "ipython",
    "version": 3
   },
   "file_extension": ".py",
   "mimetype": "text/x-python",
   "name": "python",
   "nbconvert_exporter": "python",
   "pygments_lexer": "ipython3",
   "version": "3.11.9"
  }
 },
 "nbformat": 4,
 "nbformat_minor": 5
}
